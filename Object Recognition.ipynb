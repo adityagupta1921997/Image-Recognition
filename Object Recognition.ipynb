{
 "cells": [
  {
   "cell_type": "markdown",
   "metadata": {},
   "source": [
    "# Convolution Neural Network"
   ]
  },
  {
   "cell_type": "code",
   "execution_count": 1,
   "metadata": {},
   "outputs": [
    {
     "name": "stderr",
     "output_type": "stream",
     "text": [
      "Using TensorFlow backend.\n"
     ]
    }
   ],
   "source": [
    "# Importing the Keras libraries and packages\n",
    "from keras.models import Sequential\n",
    "from keras.layers import Conv2D\n",
    "from keras.layers import MaxPooling2D\n",
    "from keras.layers import Flatten\n",
    "from keras.layers import Dense"
   ]
  },
  {
   "cell_type": "code",
   "execution_count": 2,
   "metadata": {},
   "outputs": [],
   "source": [
    "# Initialising the CNN\n",
    "classifier = Sequential()"
   ]
  },
  {
   "cell_type": "code",
   "execution_count": 3,
   "metadata": {},
   "outputs": [],
   "source": [
    "# Step 1 - Convolution\n",
    "classifier.add(Conv2D(32, (3, 3), input_shape = (64, 64, 3), activation = 'relu'))"
   ]
  },
  {
   "cell_type": "code",
   "execution_count": 4,
   "metadata": {},
   "outputs": [],
   "source": [
    "# Step 2 - Pooling\n",
    "classifier.add(MaxPooling2D(pool_size = (2, 2)))"
   ]
  },
  {
   "cell_type": "code",
   "execution_count": 5,
   "metadata": {},
   "outputs": [],
   "source": [
    "# Adding a second convolutional layer\n",
    "classifier.add(Conv2D(32, (3, 3), activation = 'relu'))\n",
    "classifier.add(MaxPooling2D(pool_size = (2, 2)))"
   ]
  },
  {
   "cell_type": "code",
   "execution_count": 6,
   "metadata": {},
   "outputs": [],
   "source": [
    "# Step 3 - Flattening\n",
    "classifier.add(Flatten())"
   ]
  },
  {
   "cell_type": "code",
   "execution_count": 7,
   "metadata": {},
   "outputs": [],
   "source": [
    "# Step 4 - Full connection\n",
    "classifier.add(Dense(units = 128, activation = 'relu'))\n",
    "classifier.add(Dense(units = 1, activation = 'sigmoid'))"
   ]
  },
  {
   "cell_type": "code",
   "execution_count": 8,
   "metadata": {},
   "outputs": [],
   "source": [
    "# Compiling the CNN\n",
    "classifier.compile(optimizer = 'adam', loss = 'binary_crossentropy', metrics = ['accuracy'])"
   ]
  },
  {
   "cell_type": "code",
   "execution_count": 10,
   "metadata": {},
   "outputs": [
    {
     "name": "stdout",
     "output_type": "stream",
     "text": [
      "Found 24 images belonging to 2 classes.\n",
      "Found 2 images belonging to 2 classes.\n"
     ]
    }
   ],
   "source": [
    "# Part 2 - Fitting the CNN to the images\n",
    "\n",
    "from keras.preprocessing.image import ImageDataGenerator\n",
    "\n",
    "train_datagen = ImageDataGenerator(rescale = 1./255,\n",
    "                                   shear_range = 0.2,\n",
    "                                   zoom_range = 0.2,\n",
    "                                   horizontal_flip = True)\n",
    "\n",
    "test_datagen = ImageDataGenerator(rescale = 1./255)\n",
    "\n",
    "training_set = train_datagen.flow_from_directory('dataset/training_set',\n",
    "                                                 target_size = (64, 64),\n",
    "                                                 batch_size = 32,\n",
    "                                                 class_mode = 'binary')\n",
    "\n",
    "test_set = test_datagen.flow_from_directory('dataset/test_set',\n",
    "                                            target_size = (64, 64),\n",
    "                                            batch_size = 32,\n",
    "                                            class_mode = 'binary')"
   ]
  },
  {
   "cell_type": "code",
   "execution_count": 11,
   "metadata": {},
   "outputs": [
    {
     "name": "stdout",
     "output_type": "stream",
     "text": [
      "Epoch 1/25\n",
      "24/24 [==============================] - 19s 771ms/step - loss: 0.5597 - acc: 0.7465 - val_loss: 0.7301 - val_acc: 0.5000\n",
      "Epoch 2/25\n",
      "24/24 [==============================] - 17s 715ms/step - loss: 0.2264 - acc: 0.9236 - val_loss: 1.0655 - val_acc: 0.5000\n",
      "Epoch 3/25\n",
      "24/24 [==============================] - 17s 692ms/step - loss: 0.0597 - acc: 0.9965 - val_loss: 1.0967 - val_acc: 0.5000\n",
      "Epoch 4/25\n",
      "24/24 [==============================] - 17s 714ms/step - loss: 0.0151 - acc: 1.0000 - val_loss: 1.7132 - val_acc: 0.5000\n",
      "Epoch 5/25\n",
      "24/24 [==============================] - 21s 861ms/step - loss: 0.0125 - acc: 0.9983 - val_loss: 0.8892 - val_acc: 0.5000\n",
      "Epoch 6/25\n",
      "24/24 [==============================] - 18s 748ms/step - loss: 0.0056 - acc: 1.0000 - val_loss: 1.8787 - val_acc: 0.5000\n",
      "Epoch 7/25\n",
      "24/24 [==============================] - 18s 734ms/step - loss: 0.0043 - acc: 1.0000 - val_loss: 2.2768 - val_acc: 0.5000\n",
      "Epoch 8/25\n",
      "24/24 [==============================] - 17s 727ms/step - loss: 0.0024 - acc: 1.0000 - val_loss: 1.4940 - val_acc: 0.5000\n",
      "Epoch 9/25\n",
      "24/24 [==============================] - 18s 768ms/step - loss: 0.0011 - acc: 1.0000 - val_loss: 1.6672 - val_acc: 0.5000\n",
      "Epoch 10/25\n",
      "24/24 [==============================] - 17s 716ms/step - loss: 8.0713e-04 - acc: 1.0000 - val_loss: 2.0548 - val_acc: 0.5000\n",
      "Epoch 11/25\n",
      "24/24 [==============================] - 17s 721ms/step - loss: 7.7352e-04 - acc: 1.0000 - val_loss: 1.9606 - val_acc: 0.5000\n",
      "Epoch 12/25\n",
      "24/24 [==============================] - 17s 689ms/step - loss: 6.1260e-04 - acc: 1.0000 - val_loss: 2.2220 - val_acc: 0.5000\n",
      "Epoch 13/25\n",
      "24/24 [==============================] - 16s 682ms/step - loss: 5.2521e-04 - acc: 1.0000 - val_loss: 1.7642 - val_acc: 0.5000\n",
      "Epoch 14/25\n",
      "24/24 [==============================] - 17s 710ms/step - loss: 4.6044e-04 - acc: 1.0000 - val_loss: 2.1992 - val_acc: 0.5000\n",
      "Epoch 15/25\n",
      "24/24 [==============================] - 16s 684ms/step - loss: 3.5163e-04 - acc: 1.0000 - val_loss: 2.2251 - val_acc: 0.5000\n",
      "Epoch 16/25\n",
      "24/24 [==============================] - 16s 685ms/step - loss: 3.5582e-04 - acc: 1.0000 - val_loss: 1.9908 - val_acc: 0.5000\n",
      "Epoch 17/25\n",
      "24/24 [==============================] - 18s 737ms/step - loss: 2.9876e-04 - acc: 1.0000 - val_loss: 2.3182 - val_acc: 0.5000\n",
      "Epoch 18/25\n",
      "24/24 [==============================] - 17s 712ms/step - loss: 2.3597e-04 - acc: 1.0000 - val_loss: 1.9919 - val_acc: 0.5000\n",
      "Epoch 19/25\n",
      "24/24 [==============================] - 16s 687ms/step - loss: 1.7303e-04 - acc: 1.0000 - val_loss: 2.3342 - val_acc: 0.5000\n",
      "Epoch 20/25\n",
      "24/24 [==============================] - 19s 812ms/step - loss: 2.9454e-04 - acc: 1.0000 - val_loss: 2.6412 - val_acc: 0.5000\n",
      "Epoch 21/25\n",
      "24/24 [==============================] - 16s 682ms/step - loss: 2.1723e-04 - acc: 1.0000 - val_loss: 2.3282 - val_acc: 0.5000\n",
      "Epoch 22/25\n",
      "24/24 [==============================] - 18s 731ms/step - loss: 2.3088e-04 - acc: 1.0000 - val_loss: 2.3188 - val_acc: 0.5000\n",
      "Epoch 23/25\n",
      "24/24 [==============================] - 17s 688ms/step - loss: 1.6935e-04 - acc: 1.0000 - val_loss: 2.2478 - val_acc: 0.5000\n",
      "Epoch 24/25\n",
      "24/24 [==============================] - 17s 690ms/step - loss: 1.3954e-04 - acc: 1.0000 - val_loss: 2.3277 - val_acc: 0.5000\n",
      "Epoch 25/25\n",
      "24/24 [==============================] - 17s 710ms/step - loss: 1.6756e-04 - acc: 1.0000 - val_loss: 2.6827 - val_acc: 0.5000\n"
     ]
    },
    {
     "data": {
      "text/plain": [
       "<keras.callbacks.History at 0x7e5fb70>"
      ]
     },
     "execution_count": 11,
     "metadata": {},
     "output_type": "execute_result"
    }
   ],
   "source": [
    "classifier.fit_generator(training_set,\n",
    "                         steps_per_epoch = 24,\n",
    "                         epochs = 25,\n",
    "                         validation_data = test_set,\n",
    "                         validation_steps = 2)"
   ]
  },
  {
   "cell_type": "code",
   "execution_count": 12,
   "metadata": {},
   "outputs": [
    {
     "name": "stdout",
     "output_type": "stream",
     "text": [
      "cat\n"
     ]
    }
   ],
   "source": [
    "import numpy as np\n",
    "from keras.preprocessing import image\n",
    "test_image = image.load_img('dataset/single_prediction/cat_or_dog_2.jpg', target_size = (64, 64))\n",
    "test_image = image.img_to_array(test_image)\n",
    "test_image = np.expand_dims(test_image, axis = 0)\n",
    "result = classifier.predict(test_image)\n",
    "training_set.class_indices\n",
    "if result[0][0] == 1:\n",
    "    prediction = 'dog'\n",
    "else:\n",
    "    prediction = 'cat'\n",
    "print(prediction)"
   ]
  },
  {
   "cell_type": "markdown",
   "metadata": {},
   "source": [
    "***"
   ]
  }
 ],
 "metadata": {
  "kernelspec": {
   "display_name": "Python 3",
   "language": "python",
   "name": "python3"
  },
  "language_info": {
   "codemirror_mode": {
    "name": "ipython",
    "version": 3
   },
   "file_extension": ".py",
   "mimetype": "text/x-python",
   "name": "python",
   "nbconvert_exporter": "python",
   "pygments_lexer": "ipython3",
   "version": "3.6.4"
  }
 },
 "nbformat": 4,
 "nbformat_minor": 2
}
